{
 "cells": [
  {
   "cell_type": "code",
   "execution_count": 2,
   "id": "4bdd9a83-feb9-4fd6-a6e1-7fd6adb9fbd5",
   "metadata": {},
   "outputs": [
    {
     "name": "stdout",
     "output_type": "stream",
     "text": [
      "Empty DataFrame\n",
      "Columns: [create_date, last_update]\n",
      "Index: []\n",
      "Empty DataFrame\n",
      "Columns: [create_date, last_update]\n",
      "Index: []\n",
      "✅ Data Fram Printed\n"
     ]
    }
   ],
   "source": [
    "# program to retreive table from pdf and store the contents in database table.\n",
    "\n",
    "import pdfplumber\n",
    "import pandas as pd\n",
    "import pyodbc\n",
    "import datetime\n",
    "\n",
    "# 1️⃣ Path to your PDF\n",
    "pdf_path = r\"C:\\Users\\Dell\\Desktop\\Python Practice\\source_datafiles\\pdfs\\BankTransfer.pdf\"\n",
    "\n",
    "# 2️⃣ Extract all tables from PDF\n",
    "all_tables = []\n",
    "\n",
    "with pdfplumber.open(pdf_path) as pdf:\n",
    "    for page_number, page in enumerate(pdf.pages, start=1):\n",
    "        tables = page.extract_tables()\n",
    "        for table_number, table in enumerate(tables, start=1):\n",
    "            if len(table) > 1:  # Skip empty tables\n",
    "                df = pd.DataFrame(table[1:], columns=table[0])\n",
    "                df['Page'] = page_number\n",
    "                df['Table_Number'] = table_number\n",
    "                all_tables.append(df)\n",
    "\n",
    "# Combine all tables\n",
    "if all_tables:\n",
    "    final_df = pd.concat(all_tables, ignore_index=True)\n",
    "else:\n",
    "    final_df = pd.DataFrame()\n",
    "\n",
    "\n",
    "# Add create_date and last_update columns\n",
    "final_df[\"create_date\"] = datetime.datetime.today().strftime(\"%Y-%m-%d %H:%M:%S\")\n",
    "final_df[\"last_update\"] = None\n",
    "\n",
    "# Optional: Preview\n",
    "print(final_df.head())\n",
    "print(final_df)\n",
    "print(\"✅ Data Fram Printed\")\n"
   ]
  },
  {
   "cell_type": "code",
   "execution_count": null,
   "id": "5ff1d646-12b5-475c-bc9e-d36cd34dfa99",
   "metadata": {},
   "outputs": [],
   "source": []
  }
 ],
 "metadata": {
  "kernelspec": {
   "display_name": "Python 3 (ipykernel)",
   "language": "python",
   "name": "python3"
  },
  "language_info": {
   "codemirror_mode": {
    "name": "ipython",
    "version": 3
   },
   "file_extension": ".py",
   "mimetype": "text/x-python",
   "name": "python",
   "nbconvert_exporter": "python",
   "pygments_lexer": "ipython3",
   "version": "3.9.9"
  }
 },
 "nbformat": 4,
 "nbformat_minor": 5
}
