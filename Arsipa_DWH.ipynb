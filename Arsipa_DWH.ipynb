{
 "cells": [
  {
   "cell_type": "code",
   "execution_count": null,
   "id": "31014a7b-0bfa-407a-b2d6-1ca152ac5e38",
   "metadata": {},
   "outputs": [],
   "source": [
    "print(\"Hello World\")"
   ]
  },
  {
   "cell_type": "code",
   "execution_count": null,
   "id": "f3a6c09d-0e51-4e16-8baf-0a5e1133e97f",
   "metadata": {},
   "outputs": [],
   "source": [
    "import pyodbc\n",
    "\n",
    "# ----------------------------\n",
    "# STEP 1: Define your connection\n",
    "# ----------------------------\n",
    "server = r'(localdb)\\MSSQLLocalDB'    # local SQL Server instance\n",
    "database = 'Arsipa'             # make sure the name matches exactly\n",
    "\n",
    "# define conn_str for Windows Authentication for SQL Server\n",
    "\n",
    "conn_str = (\n",
    "    \"Driver={ODBC Driver 17 for SQL Server};\"\n",
    "    f\"Server={server};\"\n",
    "    f\"Database={database};\"\n",
    "    \"Trusted_Connection=yes;\"\n",
    "    \"Encrypt=no;\"\n",
    ")\n",
    "\n",
    "# ----------------------------\n",
    "# STEP 2: Connect to SQL Server\n",
    "# ----------------------------\n",
    "try:\n",
    "    conn = pyodbc.connect(conn_str)\n",
    "    print(\"✅ Connection to SQL Server successful!\")\n",
    "except Exception as e:\n",
    "    print(\"❌ Failed to connect to SQL Server:\")\n",
    "    print(e)\n",
    "    conn = None\n",
    "\n",
    "# ----------------------------\n",
    "# STEP 3: Run a simple query\n",
    "# ----------------------------\n",
    "if conn:\n",
    "    try:\n",
    "        cursor = conn.cursor()\n",
    "        cursor.execute(\"SELECT @@VERSION;\")  # Returns SQL Server version\n",
    "        for row in cursor.fetchall():\n",
    "            print(\"SQL Server Version:\", row[0])\n",
    "    except Exception as e:\n",
    "        print(\"❌ Query failed:\", e)\n",
    "    finally:\n",
    "        conn.close()\n",
    "        print(\"🔒 Connection closed.\")\n"
   ]
  },
  {
   "cell_type": "code",
   "execution_count": null,
   "id": "7a8d938b-28bb-493d-a330-d75ed337a472",
   "metadata": {},
   "outputs": [],
   "source": [
    "import pandas as pd\n",
    "\n",
    "# Load CSV Data files with encoding\n",
    "df_umsatz = pd.read_csv(r\"C:\\Users\\Dell\\Desktop\\Python Practice\\source_datafiles\\csv\\umsatz.csv\", encoding=\"utf-8\")\n",
    "df_mitarbeiter = pd.read_csv(r\"C:\\Users\\Dell\\Desktop\\Python Practice\\source_datafiles\\csv\\mitarbeiter.csv\", encoding=\"utf-8\")\n",
    "df_gesellschaften = pd.read_csv(r\"C:\\Users\\Dell\\Desktop\\Python Practice\\source_datafiles\\csv\\gesellschaften.csv\", encoding=\"latin1\")\n",
    "\n",
    "# View Datasets\n",
    "print(\"📊 Umsatz (erste 5 Zeilen):\")\n",
    "print(df_umsatz.head(5))\n",
    "\n",
    "print(\"\\n👨‍💼 Mitarbeiter (letzte 5 Zeilen):\")\n",
    "print(df_mitarbeiter.tail(5))\n",
    "\n",
    "print(\"\\n🏢 Gesellschaften (erste 5 Zeilen):\")\n",
    "print(df_gesellschaften.head(5))"
   ]
  },
  {
   "cell_type": "code",
   "execution_count": null,
   "id": "b7869b0d-090a-4f53-a006-597df506195c",
   "metadata": {},
   "outputs": [],
   "source": [
    "# Joining Fact Table with Dim(s)\n",
    "fact = ( df_umsatz.merge(df_mitarbeiter, on=[\"gesellschaft_id\", \"monat\"], how=\"left\")\n",
    "                                        .merge(df_gesellschaften, on=\"gesellschaft_id\", how=\"left\")\n",
    "       )\n",
    "\n",
    "# Example: KPI \"Sales_per_Employee\"\n",
    "fact[\"umsatz_pro_mitarbeiter\"] = fact[\"umsatz_eur\"] / fact[\"anzahl_mitarbeiter\"].replace(0, pd.NA)\n",
    "\n",
    "# View Fact Table after Joins\n",
    "print(\"Fact Table after Joins\\n\", fact.head(5))\n",
    "\n",
    "# Group by gesellschaft_id and calculate SUM of umsatz_pro_mitarbeiter\n",
    "result_sum = fact.groupby(\"gesellschaft_id\")[\"umsatz_pro_mitarbeiter\"].sum()\n",
    "\n",
    "# Group by gesellschaft_id and calculate MEAN (average)\n",
    "result_mean = fact.groupby([\"gesellschaft_id\", \"monat\"])[\"umsatz_pro_mitarbeiter\"].mean()\n",
    "\n",
    "# If you want both at once\n",
    "result = fact.groupby(\"gesellschaft_id\")[\"umsatz_pro_mitarbeiter\"].agg([\"sum\", \"mean\", \"max\", \"min\"])\n",
    "\n",
    "print(\"MEANS Table\\n\", result_mean.head(5))\n",
    "print(\"Caclucations Table Grouped by Gesellschat&ProMitarbeiter\\n\",result.head(5))\n",
    "\n"
   ]
  }
 ],
 "metadata": {
  "kernelspec": {
   "display_name": "base",
   "language": "python",
   "name": "python3"
  },
  "language_info": {
   "codemirror_mode": {
    "name": "ipython",
    "version": 3
   },
   "file_extension": ".py",
   "mimetype": "text/x-python",
   "name": "python",
   "nbconvert_exporter": "python",
   "pygments_lexer": "ipython3",
   "version": "3.13.5"
  }
 },
 "nbformat": 4,
 "nbformat_minor": 5
}
