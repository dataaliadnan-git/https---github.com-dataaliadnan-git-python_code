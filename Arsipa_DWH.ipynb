{
 "cells": [
  {
   "cell_type": "code",
   "execution_count": 3,
   "id": "31014a7b-0bfa-407a-b2d6-1ca152ac5e38",
   "metadata": {},
   "outputs": [
    {
     "name": "stdout",
     "output_type": "stream",
     "text": [
      "Hello World\n"
     ]
    }
   ],
   "source": [
    "print(\"Hello World\")"
   ]
  },
  {
   "cell_type": "code",
   "execution_count": 1,
   "id": "f3a6c09d-0e51-4e16-8baf-0a5e1133e97f",
   "metadata": {},
   "outputs": [
    {
     "name": "stdout",
     "output_type": "stream",
     "text": [
      "✅ Connection to SQL Server successful!\n",
      "SQL Server Version: Microsoft SQL Server 2019 (RTM-CU27-GDR) (KB5040948) - 15.0.4382.1 (X64) \n",
      "\tJul  1 2024 20:03:23 \n",
      "\tCopyright (C) 2019 Microsoft Corporation\n",
      "\tExpress Edition (64-bit) on Windows 10 Pro 10.0 <X64> (Build 26100: ) (Hypervisor)\n",
      "\n",
      "🔒 Connection closed.\n"
     ]
    }
   ],
   "source": [
    "import pyodbc\n",
    "\n",
    "# ----------------------------\n",
    "# STEP 1: Define your connection\n",
    "# ----------------------------\n",
    "server = r'(localdb)\\MSSQLLocalDB'    # local SQL Server instance\n",
    "database = 'Arsipa'             # make sure the name matches exactly\n",
    "\n",
    "# define conn_str for Windows Authentication for SQL Server\n",
    "\n",
    "conn_str = (\n",
    "    \"Driver={ODBC Driver 17 for SQL Server};\"\n",
    "    f\"Server={server};\"\n",
    "    f\"Database={database};\"\n",
    "    \"Trusted_Connection=yes;\"\n",
    "    \"Encrypt=no;\"\n",
    ")\n",
    "\n",
    "# ----------------------------\n",
    "# STEP 2: Connect to SQL Server\n",
    "# ----------------------------\n",
    "try:\n",
    "    conn = pyodbc.connect(conn_str)\n",
    "    print(\"✅ Connection to SQL Server successful!\")\n",
    "except Exception as e:\n",
    "    print(\"❌ Failed to connect to SQL Server:\")\n",
    "    print(e)\n",
    "    conn = None\n",
    "\n",
    "# ----------------------------\n",
    "# STEP 3: Run a simple query\n",
    "# ----------------------------\n",
    "if conn:\n",
    "    try:\n",
    "        cursor = conn.cursor()\n",
    "        cursor.execute(\"SELECT @@VERSION;\")  # Returns SQL Server version\n",
    "        for row in cursor.fetchall():\n",
    "            print(\"SQL Server Version:\", row[0])\n",
    "    except Exception as e:\n",
    "        print(\"❌ Query failed:\", e)\n",
    "    finally:\n",
    "        conn.close()\n",
    "        print(\"🔒 Connection closed.\")\n"
   ]
  },
  {
   "cell_type": "code",
   "execution_count": 8,
   "id": "7a8d938b-28bb-493d-a330-d75ed337a472",
   "metadata": {},
   "outputs": [
    {
     "name": "stdout",
     "output_type": "stream",
     "text": [
      "📊 Umsatz (erste 5 Zeilen):\n",
      "   gesellschaft_id    monat  umsatz_eur\n",
      "0                1  2023-01      171958\n",
      "1                1  2023-02      181932\n",
      "2                1  2023-03      309178\n",
      "3                1  2023-04      160268\n",
      "4                1  2023-05      104886\n",
      "\n",
      "👨‍💼 Mitarbeiter (letzte 5 Zeilen):\n",
      "     gesellschaft_id    monat  anzahl_mitarbeiter\n",
      "635               20  2025-04                 333\n",
      "636               20  2025-05                 182\n",
      "637               20  2025-06                 420\n",
      "638               20  2025-07                 124\n",
      "639               20  2025-08                 429\n",
      "\n",
      "🏢 Gesellschaften (erste 5 Zeilen):\n",
      "   gesellschaft_id    gesellschaft_name standort     branche\n",
      "0                1   Arsipa Berlin GmbH   Berlin          IT\n",
      "1                2  Arsipa Hamburg GmbH  Hamburg      Handel\n",
      "2                3  Arsipa München GmbH  München  Produktion\n",
      "3                4    Arsipa Paris S.A.    Paris    Finanzen\n",
      "4                5   Arsipa Madrid S.A.   Madrid    Logistik\n"
     ]
    }
   ],
   "source": [
    "import pandas as pd\n",
    "\n",
    "# Load CSV Data files with encoding\n",
    "df_umsatz = pd.read_csv(r\"C:\\Users\\Dell\\Desktop\\Python Practice\\source_datafiles\\csv\\umsatz.csv\", encoding=\"utf-8\")\n",
    "df_mitarbeiter = pd.read_csv(r\"C:\\Users\\Dell\\Desktop\\Python Practice\\source_datafiles\\csv\\mitarbeiter.csv\", encoding=\"utf-8\")\n",
    "df_gesellschaften = pd.read_csv(r\"C:\\Users\\Dell\\Desktop\\Python Practice\\source_datafiles\\csv\\gesellschaften.csv\", encoding=\"latin1\")\n",
    "\n",
    "# View Datasets\n",
    "print(\"📊 Umsatz (erste 5 Zeilen):\")\n",
    "print(df_umsatz.head(5))\n",
    "\n",
    "print(\"\\n👨‍💼 Mitarbeiter (letzte 5 Zeilen):\")\n",
    "print(df_mitarbeiter.tail(5))\n",
    "\n",
    "print(\"\\n🏢 Gesellschaften (erste 5 Zeilen):\")\n",
    "print(df_gesellschaften.head(5))"
   ]
  },
  {
   "cell_type": "code",
   "execution_count": 13,
   "id": "b7869b0d-090a-4f53-a006-597df506195c",
   "metadata": {},
   "outputs": [
    {
     "name": "stdout",
     "output_type": "stream",
     "text": [
      "Fact Table after Joins\n",
      "    gesellschaft_id    monat  umsatz_eur  anzahl_mitarbeiter  \\\n",
      "0                1  2023-01      171958                 445   \n",
      "1                1  2023-02      181932                 280   \n",
      "2                1  2023-03      309178                  81   \n",
      "3                1  2023-04      160268                  30   \n",
      "4                1  2023-05      104886                 131   \n",
      "\n",
      "    gesellschaft_name standort branche  umsatz_pro_mitarbeiter  \n",
      "0  Arsipa Berlin GmbH   Berlin      IT              386.422472  \n",
      "1  Arsipa Berlin GmbH   Berlin      IT              649.757143  \n",
      "2  Arsipa Berlin GmbH   Berlin      IT             3817.012346  \n",
      "3  Arsipa Berlin GmbH   Berlin      IT             5342.266667  \n",
      "4  Arsipa Berlin GmbH   Berlin      IT              800.656489  \n",
      "MEANS Table\n",
      " gesellschaft_id  monat  \n",
      "1                2023-01     386.422472\n",
      "                 2023-02     649.757143\n",
      "                 2023-03    3817.012346\n",
      "                 2023-04    5342.266667\n",
      "                 2023-05     800.656489\n",
      "Name: umsatz_pro_mitarbeiter, dtype: float64\n",
      "Caclucations Table Grouped by Gesellschat&ProMitarbeiter\n",
      "                           sum         mean           max         min\n",
      "gesellschaft_id                                                     \n",
      "1                39632.005071  1238.500158   5342.266667  111.515856\n",
      "2                59627.822255  1863.369445  19606.555556  132.331183\n",
      "3                80922.795963  2528.837374  18475.916667  156.210638\n",
      "4                68952.160746  2154.755023  30807.272727  171.330952\n",
      "5                99693.047006  3115.407719  38510.545455  129.233333\n"
     ]
    }
   ],
   "source": [
    "# Joining Fact Table with Dim(s)\n",
    "fact = ( df_umsatz.merge(df_mitarbeiter, on=[\"gesellschaft_id\", \"monat\"], how=\"left\")\n",
    "                                        .merge(df_gesellschaften, on=\"gesellschaft_id\", how=\"left\")\n",
    "       )\n",
    "\n",
    "# Example: KPI \"Sales_per_Employee\"\n",
    "fact[\"umsatz_pro_mitarbeiter\"] = fact[\"umsatz_eur\"] / fact[\"anzahl_mitarbeiter\"].replace(0, pd.NA)\n",
    "\n",
    "# View Fact Table after Joins\n",
    "print(\"Fact Table after Joins\\n\", fact.head(5))\n",
    "\n",
    "# Group by gesellschaft_id and calculate SUM of umsatz_pro_mitarbeiter\n",
    "result_sum = fact.groupby(\"gesellschaft_id\")[\"umsatz_pro_mitarbeiter\"].sum()\n",
    "\n",
    "# Group by gesellschaft_id and calculate MEAN (average)\n",
    "result_mean = fact.groupby([\"gesellschaft_id\", \"monat\"])[\"umsatz_pro_mitarbeiter\"].mean()\n",
    "\n",
    "# If you want both at once\n",
    "result = fact.groupby(\"gesellschaft_id\")[\"umsatz_pro_mitarbeiter\"].agg([\"sum\", \"mean\", \"max\", \"min\"])\n",
    "\n",
    "print(\"MEANS Table\\n\", result_mean.head(5))\n",
    "print(\"Caclucations Table Grouped by Gesellschat&ProMitarbeiter\\n\",result.head(5))\n",
    "\n"
   ]
  }
 ],
 "metadata": {
  "kernelspec": {
   "display_name": "base",
   "language": "python",
   "name": "python3"
  },
  "language_info": {
   "codemirror_mode": {
    "name": "ipython",
    "version": 3
   },
   "file_extension": ".py",
   "mimetype": "text/x-python",
   "name": "python",
   "nbconvert_exporter": "python",
   "pygments_lexer": "ipython3",
   "version": "3.13.5"
  }
 },
 "nbformat": 4,
 "nbformat_minor": 5
}
