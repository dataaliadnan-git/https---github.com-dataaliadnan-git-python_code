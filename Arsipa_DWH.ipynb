{
 "cells": [
  {
   "cell_type": "code",
   "execution_count": 1,
   "id": "31014a7b-0bfa-407a-b2d6-1ca152ac5e38",
   "metadata": {},
   "outputs": [
    {
     "name": "stdout",
     "output_type": "stream",
     "text": [
      "Hello World\n"
     ]
    }
   ],
   "source": [
    "print(\"Hello World\")"
   ]
  },
  {
   "cell_type": "code",
   "execution_count": 2,
   "id": "f3a6c09d-0e51-4e16-8baf-0a5e1133e97f",
   "metadata": {},
   "outputs": [
    {
     "name": "stdout",
     "output_type": "stream",
     "text": [
      "✅ Connection to SQL Server successful!\n",
      "SQL Server Version: Microsoft SQL Server 2019 (RTM-CU27-GDR) (KB5040948) - 15.0.4382.1 (X64) \n",
      "\tJul  1 2024 20:03:23 \n",
      "\tCopyright (C) 2019 Microsoft Corporation\n",
      "\tExpress Edition (64-bit) on Windows 10 Pro 10.0 <X64> (Build 26100: ) (Hypervisor)\n",
      "\n",
      "🔒 Connection closed.\n"
     ]
    }
   ],
   "source": [
    "import pyodbc\n",
    "\n",
    "# ----------------------------\n",
    "# STEP 1: Define your connection\n",
    "# ----------------------------\n",
    "server = r'(localdb)\\MSSQLLocalDB'    # local SQL Server instance\n",
    "database = 'Arsipa'             # make sure the name matches exactly\n",
    "\n",
    "# define conn_str for Windows Authentication for SQL Server\n",
    "\n",
    "conn_str = (\n",
    "    \"Driver={ODBC Driver 17 for SQL Server};\"\n",
    "    f\"Server={server};\"\n",
    "    f\"Database={database};\"\n",
    "    \"Trusted_Connection=yes;\"\n",
    "    \"Encrypt=no;\"\n",
    ")\n",
    "\n",
    "# ----------------------------\n",
    "# STEP 2: Connect to SQL Server\n",
    "# ----------------------------\n",
    "try:\n",
    "    conn = pyodbc.connect(conn_str)\n",
    "    print(\"✅ Connection to SQL Server successful!\")\n",
    "except Exception as e:\n",
    "    print(\"❌ Failed to connect to SQL Server:\")\n",
    "    print(e)\n",
    "    conn = None\n",
    "\n",
    "# ----------------------------\n",
    "# STEP 3: Run a simple query\n",
    "# ----------------------------\n",
    "if conn:\n",
    "    try:\n",
    "        cursor = conn.cursor()\n",
    "        cursor.execute(\"SELECT @@VERSION;\")  # Returns SQL Server version\n",
    "        for row in cursor.fetchall():\n",
    "            print(\"SQL Server Version:\", row[0])\n",
    "    except Exception as e:\n",
    "        print(\"❌ Query failed:\", e)\n",
    "    finally:\n",
    "        conn.close()\n",
    "        print(\"🔒 Connection closed.\")\n"
   ]
  },
  {
   "cell_type": "code",
   "execution_count": 23,
   "id": "7a8d938b-28bb-493d-a330-d75ed337a472",
   "metadata": {},
   "outputs": [
    {
     "data": {
      "text/html": [
       "<div>\n",
       "<style scoped>\n",
       "    .dataframe tbody tr th:only-of-type {\n",
       "        vertical-align: middle;\n",
       "    }\n",
       "\n",
       "    .dataframe tbody tr th {\n",
       "        vertical-align: top;\n",
       "    }\n",
       "\n",
       "    .dataframe thead th {\n",
       "        text-align: right;\n",
       "    }\n",
       "</style>\n",
       "<table border=\"1\" class=\"dataframe\">\n",
       "  <thead>\n",
       "    <tr style=\"text-align: right;\">\n",
       "      <th></th>\n",
       "      <th>gesellschaft_id</th>\n",
       "      <th>monat</th>\n",
       "      <th>umsatz_eur</th>\n",
       "    </tr>\n",
       "  </thead>\n",
       "  <tbody>\n",
       "    <tr>\n",
       "      <th>0</th>\n",
       "      <td>98</td>\n",
       "      <td>2023-06</td>\n",
       "      <td>214456</td>\n",
       "    </tr>\n",
       "    <tr>\n",
       "      <th>1</th>\n",
       "      <td>70</td>\n",
       "      <td>2023-11</td>\n",
       "      <td>228200</td>\n",
       "    </tr>\n",
       "    <tr>\n",
       "      <th>2</th>\n",
       "      <td>86</td>\n",
       "      <td>2023-07</td>\n",
       "      <td>121279</td>\n",
       "    </tr>\n",
       "    <tr>\n",
       "      <th>3</th>\n",
       "      <td>11</td>\n",
       "      <td>2023-01</td>\n",
       "      <td>475676</td>\n",
       "    </tr>\n",
       "    <tr>\n",
       "      <th>4</th>\n",
       "      <td>16</td>\n",
       "      <td>2023-05</td>\n",
       "      <td>168280</td>\n",
       "    </tr>\n",
       "  </tbody>\n",
       "</table>\n",
       "</div>"
      ],
      "text/plain": [
       "   gesellschaft_id    monat  umsatz_eur\n",
       "0               98  2023-06      214456\n",
       "1               70  2023-11      228200\n",
       "2               86  2023-07      121279\n",
       "3               11  2023-01      475676\n",
       "4               16  2023-05      168280"
      ]
     },
     "execution_count": 23,
     "metadata": {},
     "output_type": "execute_result"
    }
   ],
   "source": [
    "import pandas as pd\n",
    "\n",
    "# Load CSV Data files\n",
    "df_umsatz = pd.read_csv(r\"C:\\Users\\Dell\\Desktop\\Arsipa Case Study\\umsatz.csv\")\n",
    "df_mitarbeiter = pd.read_csv(r\"C:\\Users\\Dell\\Desktop\\Arsipa Case Study\\mitarbeiter.csv\")\n",
    "df_gesellschaften = pd.read_csv(r\"C:\\Users\\Dell\\Desktop\\Arsipa Case Study\\gesellschaften.csv\")\n",
    "\n",
    "# View Dataset\n",
    "df_umsatz.head(5)\n",
    "# df_mitarbeiter.tail(5)\n",
    "# df_gesellschaften.head(5)\n",
    "\n",
    "\n"
   ]
  },
  {
   "cell_type": "code",
   "execution_count": 51,
   "id": "b7869b0d-090a-4f53-a006-597df506195c",
   "metadata": {},
   "outputs": [
    {
     "name": "stdout",
     "output_type": "stream",
     "text": [
      "gesellschaft_id  monat  \n",
      "1                2023-01            NaN\n",
      "                 2023-02            NaN\n",
      "                 2023-03     328.945175\n",
      "                 2023-04     181.173596\n",
      "                 2023-06     109.219677\n",
      "                 2023-08            NaN\n",
      "                 2023-09            NaN\n",
      "                 2023-10    1959.746479\n",
      "                 2023-11     275.412899\n",
      "2                2023-01     963.892865\n",
      "                 2023-07            NaN\n",
      "                 2023-08            NaN\n",
      "                 2023-10     654.731595\n",
      "                 2023-11            NaN\n",
      "                 2023-12            NaN\n",
      "3                2023-01            NaN\n",
      "                 2023-02     191.862419\n",
      "                 2023-03            NaN\n",
      "                 2023-04     470.922822\n",
      "                 2023-07     627.418046\n",
      "Name: umsatz_pro_mitarbeiter, dtype: float64\n"
     ]
    }
   ],
   "source": [
    "# Joining Fact Table with Dim(s)\n",
    "fact = ( df_umsatz.merge(df_mitarbeiter, on=[\"gesellschaft_id\", \"monat\"], how=\"left\")\n",
    "                                        .merge(df_gesellschaften, on=\"gesellschaft_id\", how=\"left\")\n",
    "       )\n",
    "\n",
    "# Example: KPI \"Sales_per_Employee\"\n",
    "fact[\"umsatz_pro_mitarbeiter\"] = fact[\"umsatz_eur\"] / fact[\"anzahl_mitarbeiter\"].replace(0, pd.NA)\n",
    "\n",
    "# View Fact Table after Joins\n",
    "fact \n",
    "\n",
    "# Group by gesellschaft_id and calculate SUM of umsatz_pro_mitarbeiter\n",
    "result_sum = fact.groupby(\"gesellschaft_id\")[\"umsatz_pro_mitarbeiter\"].sum()\n",
    "\n",
    "# Group by gesellschaft_id and calculate MEAN (average)\n",
    "result_mean = fact.groupby([\"gesellschaft_id\", \"monat\"])[\"umsatz_pro_mitarbeiter\"].mean()\n",
    "\n",
    "# If you want both at once\n",
    "result = fact.groupby(\"gesellschaft_id\")[\"umsatz_pro_mitarbeiter\"].agg([\"sum\", \"mean\", \"max\", \"min\"])\n",
    "\n",
    "print(result_mean.head(20))\n"
   ]
  }
 ],
 "metadata": {
  "kernelspec": {
   "display_name": "Python 3 (ipykernel)",
   "language": "python",
   "name": "python3"
  },
  "language_info": {
   "codemirror_mode": {
    "name": "ipython",
    "version": 3
   },
   "file_extension": ".py",
   "mimetype": "text/x-python",
   "name": "python",
   "nbconvert_exporter": "python",
   "pygments_lexer": "ipython3",
   "version": "3.9.9"
  }
 },
 "nbformat": 4,
 "nbformat_minor": 5
}
