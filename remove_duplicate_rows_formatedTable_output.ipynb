{
 "cells": [
  {
   "cell_type": "code",
   "execution_count": 2,
   "id": "1dbef5e9-e3f1-4594-9357-5d56f33fea9a",
   "metadata": {},
   "outputs": [
    {
     "name": "stdout",
     "output_type": "stream",
     "text": [
      "✅ Done! Colorful Excel file saved in: C:\\Users\\Dell\\Desktop\\Python Practice\\outputfiles\\cleaned_data\\Processed_Verbs.xlsx\n"
     ]
    }
   ],
   "source": [
    "import pandas as pd\n",
    "import os\n",
    "from openpyxl import load_workbook\n",
    "from openpyxl.styles import PatternFill, Font\n",
    "\n",
    "# === Configuration ===\n",
    "input_file = r\"C:\\Users\\Dell\\Desktop\\Python Practice\\source_datafiles\\excelsheets\\German_Verbs.xlsx\"   # Input Excel file with verbs\n",
    "output_folder = r\"C:\\Users\\Dell\\Desktop\\Python Practice\\outputfiles\\cleaned_data\"\n",
    "output_file = os.path.join(output_folder, \"Processed_Verbs.xlsx\")\n",
    "\n",
    "# Create output folder if it does not exist\n",
    "os.makedirs(output_folder, exist_ok=True)\n",
    "\n",
    "# === Load Excel file ===\n",
    "df = pd.read_excel(input_file)\n",
    "\n",
    "# === Find duplicates in column \"Verb\" ===\n",
    "duplicates = df[df.duplicated(subset=[\"Verb\"], keep=False)]\n",
    "unique_verbs = df.drop_duplicates(subset=[\"Verb\"], keep=\"first\")\n",
    "\n",
    "# === Save results into one Excel file with two sheets ===\n",
    "with pd.ExcelWriter(output_file, engine=\"openpyxl\") as writer:\n",
    "    unique_verbs.to_excel(writer, sheet_name=\"Unique_Verbs\", index=False)\n",
    "    duplicates.to_excel(writer, sheet_name=\"Duplicate_Verbs\", index=False)\n",
    "\n",
    "# === Add colors and formatting ===\n",
    "wb = load_workbook(output_file)\n",
    "\n",
    "# Define fills\n",
    "header_fill = PatternFill(start_color=\"4F81BD\", end_color=\"4F81BD\", fill_type=\"solid\")  # Blue header\n",
    "unique_fill = PatternFill(start_color=\"C6EFCE\", end_color=\"C6EFCE\", fill_type=\"solid\")  # Light green\n",
    "dup_fill = PatternFill(start_color=\"FFC7CE\", end_color=\"FFC7CE\", fill_type=\"solid\")    # Light red\n",
    "\n",
    "# Style both sheets\n",
    "for sheet_name in [\"Unique_Verbs\", \"Duplicate_Verbs\"]:\n",
    "    ws = wb[sheet_name]\n",
    "    \n",
    "    # Style headers\n",
    "    for cell in ws[1]:\n",
    "        cell.fill = header_fill\n",
    "        cell.font = Font(color=\"FFFFFF\", bold=True)  # White bold text\n",
    "    \n",
    "    # Style rows\n",
    "    for row in ws.iter_rows(min_row=2, max_row=ws.max_row, max_col=ws.max_column):\n",
    "        for cell in row:\n",
    "            if sheet_name == \"Unique_Verbs\":\n",
    "                cell.fill = unique_fill\n",
    "            else:\n",
    "                cell.fill = dup_fill\n",
    "\n",
    "# Save styled workbook\n",
    "wb.save(output_file)\n",
    "\n",
    "print(\"✅ Done! Colorful Excel file saved in:\", output_file)\n"
   ]
  },
  {
   "cell_type": "code",
   "execution_count": null,
   "id": "444969bd-1270-452b-a0b6-3f9c5c798eb9",
   "metadata": {},
   "outputs": [],
   "source": []
  }
 ],
 "metadata": {
  "kernelspec": {
   "display_name": "Python 3 (ipykernel)",
   "language": "python",
   "name": "python3"
  },
  "language_info": {
   "codemirror_mode": {
    "name": "ipython",
    "version": 3
   },
   "file_extension": ".py",
   "mimetype": "text/x-python",
   "name": "python",
   "nbconvert_exporter": "python",
   "pygments_lexer": "ipython3",
   "version": "3.9.9"
  }
 },
 "nbformat": 4,
 "nbformat_minor": 5
}
