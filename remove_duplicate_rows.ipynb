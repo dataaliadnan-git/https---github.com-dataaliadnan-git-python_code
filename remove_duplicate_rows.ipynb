{
 "cells": [
  {
   "cell_type": "code",
   "execution_count": 3,
   "id": "4f4d7fa9-c53a-4db4-b1c5-110b44dbbd02",
   "metadata": {},
   "outputs": [
    {
     "name": "stdout",
     "output_type": "stream",
     "text": [
      "✅ Done! Results saved in: C:\\Users\\Dell\\Desktop\\Python Practice\\outputfiles\\cleaned_data\\Processed_Verbs.xlsx\n"
     ]
    }
   ],
   "source": [
    "import pandas as pd\n",
    "import os\n",
    "\n",
    "# === Configuration ===\n",
    "input_file = r\"C:\\Users\\Dell\\Desktop\\Python Practice\\source_datafiles\\excelsheets\\German_Verbs.xlsx\"   # Input Excel file with verbs\n",
    "output_folder = r\"C:\\Users\\Dell\\Desktop\\Python Practice\\outputfiles\\cleaned_data\"\n",
    "output_file = os.path.join(output_folder, \"Processed_Verbs.xlsx\")\n",
    "\n",
    "# Create output folder if it does not exist\n",
    "os.makedirs(output_folder, exist_ok=True)\n",
    "\n",
    "# === Load Excel file ===\n",
    "df = pd.read_excel(input_file)\n",
    "\n",
    "# === Find duplicates in column \"Verb\" ===\n",
    "duplicates = df[df.duplicated(subset=[\"Verb\"], keep=False)]\n",
    "unique_verbs = df.drop_duplicates(subset=[\"Verb\"], keep=\"first\")\n",
    "\n",
    "\n",
    "# === Save results into one Excel file with two sheets ===\n",
    "with pd.ExcelWriter(output_file, engine=\"openpyxl\") as writer:\n",
    "    unique_verbs.to_excel(writer, sheet_name=\"Unique_Verbs\", index=False)\n",
    "    duplicates.to_excel(writer, sheet_name=\"Duplicate_Verbs\", index=False)\n",
    "    \n",
    "print(\"✅ Done! Results saved in:\", output_file)\n"
   ]
  },
  {
   "cell_type": "code",
   "execution_count": null,
   "id": "98e9468a-217c-4783-b60e-65e155330f02",
   "metadata": {},
   "outputs": [],
   "source": []
  }
 ],
 "metadata": {
  "kernelspec": {
   "display_name": "Python 3 (ipykernel)",
   "language": "python",
   "name": "python3"
  },
  "language_info": {
   "codemirror_mode": {
    "name": "ipython",
    "version": 3
   },
   "file_extension": ".py",
   "mimetype": "text/x-python",
   "name": "python",
   "nbconvert_exporter": "python",
   "pygments_lexer": "ipython3",
   "version": "3.9.9"
  }
 },
 "nbformat": 4,
 "nbformat_minor": 5
}
