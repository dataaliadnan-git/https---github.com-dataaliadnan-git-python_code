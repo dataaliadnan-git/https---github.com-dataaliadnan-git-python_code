{
 "cells": [
  {
   "cell_type": "code",
   "execution_count": 12,
   "id": "4bdd9a83-feb9-4fd6-a6e1-7fd6adb9fbd5",
   "metadata": {},
   "outputs": [
    {
     "name": "stdout",
     "output_type": "stream",
     "text": [
      "   Product Quantity Unit Price         Total Price  Page  Table_Number  \\\n",
      "0  Charger        4     260.92             1043.68     1             1   \n",
      "1  Monitor        3      161.6  484.79999999999995     1             1   \n",
      "2   Laptop        3      52.54              157.62     1             1   \n",
      "3   Laptop        8      277.9              2223.2     1             1   \n",
      "4  Monitor        1     324.63              324.63     1             1   \n",
      "\n",
      "           create_date last_update  \n",
      "0  2025-09-06 14:59:47        None  \n",
      "1  2025-09-06 14:59:47        None  \n",
      "2  2025-09-06 14:59:47        None  \n",
      "3  2025-09-06 14:59:47        None  \n",
      "4  2025-09-06 14:59:47        None  \n",
      "✅ Connected to SQL Server\n",
      "Table DROP  successfully.\n",
      "✅ Table 'PDF_Invoice_Tables' checked/created\n",
      "✅ PDF table data inserted successfully\n",
      "✅ Connection closed\n"
     ]
    }
   ],
   "source": [
    "# program to retreive table from pdf and store the contents in database table.\n",
    "\n",
    "import pdfplumber\n",
    "import pandas as pd\n",
    "import pyodbc\n",
    "import datetime\n",
    "\n",
    "# 1️⃣ Path to your generated PDF\n",
    "pdf_path = r\"C:\\Users\\Dell\\Desktop\\Python Practice\\source_datafiles\\pdfs\\generated_tabular_invoice.pdf\"\n",
    "\n",
    "# 2️⃣ Extract all tables from PDF\n",
    "all_tables = []\n",
    "\n",
    "with pdfplumber.open(pdf_path) as pdf:\n",
    "    for page_number, page in enumerate(pdf.pages, start=1):\n",
    "        tables = page.extract_tables()\n",
    "        for table_number, table in enumerate(tables, start=1):\n",
    "            if len(table) > 1:  # Skip empty tables\n",
    "                df = pd.DataFrame(table[1:], columns=table[0])\n",
    "                df['Page'] = page_number\n",
    "                df['Table_Number'] = table_number\n",
    "                all_tables.append(df)\n",
    "\n",
    "# Combine all tables\n",
    "if all_tables:\n",
    "    final_df = pd.concat(all_tables, ignore_index=True)\n",
    "else:\n",
    "    final_df = pd.DataFrame()\n",
    "\n",
    "\n",
    "# Add create_date and last_update columns\n",
    "final_df[\"create_date\"] = datetime.datetime.today().strftime(\"%Y-%m-%d %H:%M:%S\")\n",
    "final_df[\"last_update\"] = None\n",
    "\n",
    "# Optional: Preview\n",
    "print(final_df.head())\n",
    "\n",
    "# 3️⃣ SQL Server connection parameters\n",
    "server = '(localdb)\\\\MSSQLLocalDB'  # Adjust if using SQLEXPRESS: 'localhost\\\\SQLEXPRESS'\n",
    "database = 'Arsipa'                 # Your database name\n",
    "driver = '{ODBC Driver 17 for SQL Server}'\n",
    "\n",
    "conn_str = f'DRIVER={driver};SERVER={server};DATABASE={database};Trusted_Connection=yes;'\n",
    "conn = pyodbc.connect(conn_str)\n",
    "cursor = conn.cursor()\n",
    "print(\"✅ Connected to SQL Server\")\n",
    "\n",
    "\n",
    "# Truncate table\n",
    "cursor.execute(\"DROP TABLE PDF_Invoice_Tables;\")\n",
    "conn.commit()\n",
    "print(\"Table DROP  successfully.\")\n",
    "\n",
    "\n",
    "# 4️⃣ Create table dynamically based on PDF columns\n",
    "table_name = \"PDF_Invoice_Tables\"\n",
    "\n",
    "# Generate SQL columns from DataFrame columns (all NVARCHAR(MAX) for simplicity)\n",
    "columns_sql = \", \".join([f\"[{col}] NVARCHAR(MAX)\" for col in final_df.columns])\n",
    "create_table_query = f\"\"\"\n",
    "IF NOT EXISTS (SELECT * FROM sysobjects WHERE name='{table_name}' AND xtype='U')\n",
    "CREATE TABLE {table_name} ({columns_sql})\n",
    "\"\"\"\n",
    "cursor.execute(create_table_query)\n",
    "conn.commit()\n",
    "print(f\"✅ Table '{table_name}' checked/created\")\n",
    "\n",
    "# 5️⃣ Insert DataFrame into SQL Server using fast executemany\n",
    "cursor.fast_executemany = True\n",
    "\n",
    "# Prepare insert statement\n",
    "columns_str = \", \".join([f\"[{col}]\" for col in final_df.columns])\n",
    "placeholders = \", \".join([\"?\"] * len(final_df.columns))\n",
    "insert_query = f\"INSERT INTO {table_name} ({columns_str}) VALUES ({placeholders})\"\n",
    "\n",
    "# Convert DataFrame to list of tuples\n",
    "data_tuples = [tuple(x) for x in final_df.values]\n",
    "cursor.executemany(insert_query, data_tuples)\n",
    "conn.commit()\n",
    "print(\"✅ PDF table data inserted successfully\")\n",
    "\n",
    "# 6️⃣ Close connection\n",
    "cursor.close()\n",
    "conn.close()\n",
    "print(\"✅ Connection closed\")\n"
   ]
  },
  {
   "cell_type": "code",
   "execution_count": 13,
   "id": "5ff1d646-12b5-475c-bc9e-d36cd34dfa99",
   "metadata": {},
   "outputs": [
    {
     "name": "stdout",
     "output_type": "stream",
     "text": [
      "Current notebook directory: C:\\Users\\Dell\\Documents\\Jupyter\n"
     ]
    }
   ],
   "source": [
    "import os\n",
    "notebook_path = os.getcwd()\n",
    "print(\"Current notebook directory:\", notebook_path)\n"
   ]
  },
  {
   "cell_type": "code",
   "execution_count": null,
   "id": "42351b6d-4a41-4d77-be41-c3e45e090737",
   "metadata": {},
   "outputs": [],
   "source": []
  }
 ],
 "metadata": {
  "kernelspec": {
   "display_name": "Python 3 (ipykernel)",
   "language": "python",
   "name": "python3"
  },
  "language_info": {
   "codemirror_mode": {
    "name": "ipython",
    "version": 3
   },
   "file_extension": ".py",
   "mimetype": "text/x-python",
   "name": "python",
   "nbconvert_exporter": "python",
   "pygments_lexer": "ipython3",
   "version": "3.9.9"
  }
 },
 "nbformat": 4,
 "nbformat_minor": 5
}
